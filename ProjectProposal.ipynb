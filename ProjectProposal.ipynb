{
 "cells": [
  {
   "cell_type": "markdown",
   "metadata": {},
   "source": [
    "# COGS 108 - Project Proposal"
   ]
  },
  {
   "cell_type": "markdown",
   "metadata": {},
   "source": [
    "## Important\n",
    "\n",
    "- Make sure all group members (3-6 people) are listed in the group members section.\n",
    "- ONE, and only one, member of your group should upload this notebook to TritonED. \n",
    "- Each member of the group will receive the same grade on this assignment. \n",
    "- Keep the file name the same: submit the file 'ProjectProposal.ipynb'"
   ]
  },
  {
   "cell_type": "markdown",
   "metadata": {},
   "source": [
    "## Overview"
   ]
  },
  {
   "cell_type": "markdown",
   "metadata": {},
   "source": [
    "Read the project description and detailed instructions for this assignment in the 'ProjectOutline' document."
   ]
  },
  {
   "cell_type": "markdown",
   "metadata": {},
   "source": [
    "## Group Members: Fill in the Student IDs of each group member here\n",
    "\n",
    "Replace the lines below to list each persons full student ID. Add lines as needed for your group size, and make sure each ID is listed on a separate line. \n",
    "\n",
    "- A14732783\n",
    "- A11962666\n",
    "- A11888496\n",
    "- A15352670\n",
    "- A14493674"
   ]
  },
  {
   "cell_type": "markdown",
   "metadata": {},
   "source": [
    "### Research Question\n",
    "\n",
    "What is your research question? (1-2 sentences)"
   ]
  },
  {
   "cell_type": "markdown",
   "metadata": {},
   "source": [
    "How does visual appearance affect the likelihood of receiving a parking violation? Do certain makes/models or colors receive more tickets than expected?"
   ]
  },
  {
   "cell_type": "markdown",
   "metadata": {},
   "source": [
    "### Hypothesis\n",
    "\n",
    "What is your main hypothesis and predictions? (2-3 sentences)"
   ]
  },
  {
   "cell_type": "markdown",
   "metadata": {},
   "source": [
    "We predict that loud colors & higher end models have a higher chance of receiving violations."
   ]
  },
  {
   "cell_type": "markdown",
   "metadata": {},
   "source": [
    "### Dataset(s)\n",
    "\n",
    "What data will you use to answer your question? Describe the dataset(s) in terms of number of observations, what kind of features it contains, etc. You must use at least one dataset containing at least approximately 1000 observations (if your data are smaller but you feel they are sufficient, email Prof. Keown). You are welcome (and in fact recommended) to find multiple datasets! If you do so, describe each one, and briefly explain how you will combine them together. "
   ]
  },
  {
   "cell_type": "markdown",
   "metadata": {},
   "source": [
    "*Fill in your dataset information here*\n",
    "\n",
    "(Copy this information for each dataset)\n",
    "- Dataset Name: Los Angeles Parking Citations\n",
    "- Link to the dataset: https://data.lacity.org/A-Well-Run-City/Parking-Citations/wjz9-h9np\n",
    "- Number of observations: 8,799,051 from July 1, 2015 to February 17, 2019\n",
    "\n",
    "The dataset consists of 19 variables based on the information on the ticket slip. This includes ticket date, issue time, meter id, make, body style, color, location, route, agency, violation code, violation description, fine amount, and location data."
   ]
  },
  {
   "cell_type": "markdown",
   "metadata": {},
   "source": [
    "### Background and Prior Work\n",
    "\n",
    "Why is this question of interest, what background information led you to your hypothesis, and why is this important?\n",
    "\n",
    "Find some relevant prior work, and reference those sources. Even if you think you have a totally novel question, find the most similar prior work that you can and discuss how it relates to your project. \n",
    "\n",
    "References can be research publications, but they need not be. Blogs, github repositories, company websites, etc., are all viable references if they are relevant to your project.\n",
    "\n",
    "(2-3 paragraphs, including at least 2 references)"
   ]
  },
  {
   "cell_type": "markdown",
   "metadata": {},
   "source": [
    "References (include links):\n",
    "- 1) https://www.more.com/lifestyle/6-things-almost-guarantee-speeding-ticket\n",
    "- 2) http://www.brettrics.com/9-million-parking-tickets-la/\n",
    "\n",
    "    We believe that there are biases that are imposed from humans as they do their job, such as parking enforcement. There is a typically well known statement that cops and parking enforcement have to meet quotas monthly to keep them on goal as they do their job. Besides this commonly heard phenomena, is there also a possible data to show that some cars also get more tickets than others? With further research we found there are many articles online which sum up reasons why one might be more likely to get a ticket; and some of their data show that certain vehicle makes and models, more notably the expensive and luxurious make and models, receive more speeding tickets [1]. There is also a well known statistic that red colored cars get pulled over more than others, which is most likely related to its high visibility over other colored cars [2].\n",
    "\n",
    "\tWith this in mind, we supposed there can be a possible correlation to be found. As we hypothesized, we believe that cars of certain visible attributes like color or make can possibly increase their likelihood of receiving a ticket in comparison to other vehicles which may not attract as much attention. We believe this is important because we want to see if there are possible implicit biases in how parking enforcement gives out violations. This data could help better inform people before choosing a car to buy, if they care or to just find an interesting relationship to human cognition and how perception alters thinking."
   ]
  },
  {
   "cell_type": "markdown",
   "metadata": {},
   "source": [
    "### Proposed Methods\n",
    "\n",
    "What methods will you use to analyze your data?\n",
    "\n",
    "- How 'clean' is the data? To the extent that it requires cleaning, how will you do so?\n",
    "- How will you analyze the data? Be as specific as you can. Briefly mention any pre-processing steps that are required for your methods (for example, checking data distributions and performing any transformations that may be required). Include a brief outline of how you will apply your chosen method(s). \n",
    "- What do you plan to report? Briefly mention any key visualizations you plan to create, and/or the kind of results you will be able to report that address your question (this could be, for example, the outcome of some statistical test(s), prediction error on a model, a model fit parameter, etc.).\n",
    "- Include a list of packages you expect to use for you project. If you plan to use packages we have not used in class, add a very brief description about them (a few words is sufficient). "
   ]
  },
  {
   "cell_type": "markdown",
   "metadata": {},
   "source": [
    "*Data Cleaning (2-3 sentences)*\n",
    "\n",
    "The dataset for Los Angeles Parking Citations is fairly clean. The vital data that are more relevant to our hypotheses, such as vehicle make, color, and violation code, are consistent. We will be cleaning the rest of the dataset by dropping unnecessary columns such as VIN, marked time, or meter ID. Further refinements might include changing inconsistent values within the same columns to reflect uniformity. \n",
    "\n",
    "\n",
    "*Data Analysis (1-2 paragraphs)*\n",
    "\n",
    "For performing data analysis, we will try and classify any data of similar value and visualize them through plots and graphs. Because our hypotheses involve predicting the chances of receiving parking violations according to color and vehicle make, we will include the variables of color, vehicle make, and violation type. We will then process the data into visualizations and make inferences to find correlations among the various variables. We then utilize a linear regression model to make predictions with the measurement of R^2. A brief outline of the process will look like the following:\n",
    "\n",
    "Loading the dataset into python as dataframes\n",
    "Perform data cleaning and pre-processing for missing or inconsistent values; refine dataframe to reflect necessary variables\n",
    "Visualize data by making scatterplots, pyplots, and graphs.\n",
    "Make inferences and predictions per linear regression modeling.\n",
    "\n",
    "Some preprocessing steps would include sorting the elements in body style. Because some vehicle makes might have different variables for the same meanings, we will have to find methods that can make the unique variables consistent with the others. For example, Acura cars are referred to as both ACU or ACURA If this proves to be unsuccessful, it may also prove to be worthwhile to omit those rows entirely. There is enough data to proceed with our analysis without bias if we omit those specific data points.\n",
    "\n",
    "\n",
    "*What to report (2-3 sentences)*\n",
    "\n",
    "We plan to report our methods for analysis, the results of our data cleaning and processing, visualizations, analysis, and whether or not our hypotheses were confirmed. Our main visualizations would consist of scatterplots and the predictive line of our linear regression model. \n",
    "\n",
    "\n",
    "Packages we plan to use:\n",
    "\n",
    "- sys\n",
    "- numpy\n",
    "- pandas\n",
    "- matplotlib.pyplot\n",
    "- requests\n",
    "- sklearn\n",
    "- patsy - provides organized matrices of predictor and output variables\n",
    "- statsmode - initializes model and provides data\n",
    "\n",
    "In addition to the above packages, we may add more packages to use as we dive deeper into our dataset and begin analyzing it.\n"
   ]
  },
  {
   "cell_type": "markdown",
   "metadata": {},
   "source": [
    "### Ethics and Privacy\n",
    "\n",
    "Briefly acknowledge and address any potential issues of ethics and privacy for the proposed project. In particular:\n",
    "- Do you have permission to use this data, for this purpose?\n",
    "- Are there privacy concerns regarding your datasets that you need to deal with, and/or terms of use that you need to comply with?\n",
    "- Are there potential biases in your dataset(s), in terms of who it composes, and how it was collected, that may be problematic in terms of it allowing for equitable analysis? (For example, does your data exclude particular populations, or is it likely to reflect particular human biases in a way that could be a problem?) \n",
    "- Are there any other issues related to your topic area, data, and/or analyses that are potentially problematic in terms of data privacy and equitable impact?\n",
    "- How will you handle any issues you identify?\n",
    "\n",
    "(1-2 paragraphs)"
   ]
  },
  {
   "cell_type": "markdown",
   "metadata": {},
   "source": [
    "The data was posted on Kaggle’s data set page but the information is released to the public via DataLA, a public site maintained by the Los Angeles government. We have permission to use this data under the Open Database License. There are no privacy concerns in regard to the data. This data set is potentially biased in terms of who it composes for two reasons. The first is regional factors. For example if parking officials stay in a neighborhood where the parking restrictions are stricter then we would expect the models of the cars in that neighborhood to be over represented in the data set. The second reason is that some violations may be more for lower income individuals. For example we would expect lower income individuals to receive more expired registration violations because of their inability to afford registration. If we identify any of these issues, we can modify our research topic so that it does not include biased data. For example we will not analyze expired registration violations if we identify that the data is heavily skewed towards lower income models."
   ]
  },
  {
   "cell_type": "markdown",
   "metadata": {},
   "source": [
    "### Discussion\n",
    "\n",
    "Discuss your project, looking forward to what your results might mean, how they fit it in with what is already known, and what problems you may encounter. \n",
    "\n",
    "In particular:\n",
    "- If your analyses and hypotheses are correct, what will be the contribution of this project to the topic domain? \n",
    "- Alternatively, what will you do if you methods don't work and/or your hypotheses are wrong? \n",
    "- What are the potential pitfalls and potential confounds of your data and/or methods that may cause problems, and/or influence your interpretations?\n",
    "\n",
    "(2-3 paragraphs)"
   ]
  },
  {
   "cell_type": "markdown",
   "metadata": {},
   "source": [
    "If our analyses and hypotheses are correct, our project would contribute to the public’s awareness that cars of loud colors and higher end models are more likely to get spotted and given parking citations due to their more noticeable visual appearances in comparison to other cars. This in hope, would make owners of such cars more cautious in committing violations due to their increased chance of being caught. At the same time, we hope that this project doesn’t encourage owners of cars that are not of loud colors and higher end models to commit violations if it does indeed turn out that they have less of a chance of receiving citations.\n",
    "\n",
    "\n",
    "If our methods don’t work and/or our hypotheses are wrong, we will be encouraged to look at other datasets from different cities. The current dataset that we are analyzing focuses on the city of Los Angeles, in which almost all of us are from. If we are unable to find sufficient evidence to prove the correlation proposed in our hypotheses for this city, we are able to look at other cities such as San Diego, Chicago, New York, etc… This way, we can continue to research into this topic to see if Los Angeles was just a bad dataset for us to back up our hypotheses.\n",
    "    \n",
    "\n",
    "We determined that there may be some potential pitfalls/confounds in our data. In addition to the potential bias in regional factors and possible skewed data towards lower income models that we mentioned before, we suspect that there may be other regional factors in the case of certain locations in LA where citations often occur. This may due to the organization of or confusing signs/streets in LA, in which we’ve all experienced first-hand, that leads to cars of all types of colors and models to receive citations. Nevertheless, this may hurt our hypotheses as cars of all types of colors and models would receive citations but may also possibly strengthen our hypotheses if it turns out that cars of loud colors and higher end models were to receive more citations in these areas as well."
   ]
  },
  {
   "cell_type": "code",
   "execution_count": null,
   "metadata": {},
   "outputs": [],
   "source": []
  }
 ],
 "metadata": {
  "kernelspec": {
   "display_name": "Python 3",
   "language": "python",
   "name": "python3"
  },
  "language_info": {
   "codemirror_mode": {
    "name": "ipython",
    "version": 3
   },
   "file_extension": ".py",
   "mimetype": "text/x-python",
   "name": "python",
   "nbconvert_exporter": "python",
   "pygments_lexer": "ipython3",
   "version": "3.7.1"
  }
 },
 "nbformat": 4,
 "nbformat_minor": 2
}
